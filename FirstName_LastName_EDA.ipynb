{
 "cells": [
  {
   "cell_type": "code",
   "execution_count": 1,
   "id": "9bd2b35e",
   "metadata": {},
   "outputs": [],
   "source": [
    "import pandas as pd\n",
    "import numpy as np\n",
    "import matplotlib.pyplot as plt\n",
    "import seaborn as sns\n",
    "from datetime import datetime\n",
    "\n"
   ]
  },
  {
   "cell_type": "code",
   "execution_count": 11,
   "id": "0a801363",
   "metadata": {},
   "outputs": [],
   "source": [
    "\n",
    "def load_data():\n",
    "    \"\"\"Load and preprocess the datasets.\"\"\"\n",
    "    customers_df = pd.read_csv(\"C:\\\\Users\\\\chatu\\\\Downloads\\\\Customers.csv\")\n",
    "    products_df = pd.read_csv(\"C:\\\\Users\\\\chatu\\\\Downloads\\\\Products.csv\")\n",
    "    transactions_df = pd.read_csv(\"C:\\\\Users\\\\chatu\\\\Downloads\\\\Transactions.csv\")\n",
    "    \n",
    "    # Convert date columns to datetime\n",
    "    customers_df['SignupDate'] = pd.to_datetime(customers_df['SignupDate'])\n",
    "    transactions_df['TransactionDate'] = pd.to_datetime(transactions_df['TransactionDate'])\n",
    "    \n",
    "    return customers_df, products_df, transactions_df\n"
   ]
  },
  {
   "cell_type": "code",
   "execution_count": 12,
   "id": "687eef50",
   "metadata": {},
   "outputs": [],
   "source": [
    "def perform_customer_analysis(transactions_df):\n",
    "    \"\"\"Analyze customer behavior and metrics.\"\"\"\n",
    "    customer_metrics = transactions_df.groupby('CustomerID').agg({\n",
    "        'TransactionID': 'count',\n",
    "        'TotalValue': 'sum',\n",
    "        'Quantity': 'sum'\n",
    "    }).reset_index()\n",
    "    \n",
    "    customer_metrics.columns = ['CustomerID', 'TotalTransactions', 'TotalSpend', 'TotalItems']\n",
    "    customer_metrics['AvgOrderValue'] = customer_metrics['TotalSpend'] / customer_metrics['TotalTransactions']\n",
    "    \n",
    "    return customer_metrics"
   ]
  },
  {
   "cell_type": "code",
   "execution_count": 13,
   "id": "fdd66b7c",
   "metadata": {},
   "outputs": [],
   "source": [
    "def perform_product_analysis(transactions_df, products_df):\n",
    "    \"\"\"Analyze product performance metrics.\"\"\"\n",
    "    product_metrics = transactions_df.merge(products_df, on='ProductID').groupby(['ProductID', 'Category']).agg({\n",
    "        'TransactionID': 'count',\n",
    "        'TotalValue': 'sum',\n",
    "        'Quantity': 'sum'\n",
    "    }).reset_index()\n",
    "    \n",
    "    return product_metrics"
   ]
  },
  {
   "cell_type": "code",
   "execution_count": 14,
   "id": "ea1a1948",
   "metadata": {},
   "outputs": [],
   "source": [
    "def perform_regional_analysis(customers_df, transactions_df):\n",
    "    \"\"\"Analyze regional performance metrics.\"\"\"\n",
    "    regional_metrics = customers_df.merge(\n",
    "        transactions_df, on='CustomerID'\n",
    "    ).groupby('Region').agg({\n",
    "        'TransactionID': 'count',\n",
    "        'TotalValue': 'sum',\n",
    "        'CustomerID': 'nunique'\n",
    "    }).reset_index()\n",
    "    \n",
    "    return regional_metrics"
   ]
  },
  {
   "cell_type": "code",
   "execution_count": 15,
   "id": "eb9e5379",
   "metadata": {},
   "outputs": [],
   "source": [
    "def perform_time_analysis(transactions_df):\n",
    "    \"\"\"Analyze time-based trends.\"\"\"\n",
    "    transactions_df['Month'] = transactions_df['TransactionDate'].dt.month\n",
    "    transactions_df['Year'] = transactions_df['TransactionDate'].dt.year\n",
    "    \n",
    "    time_metrics = transactions_df.groupby(['Year', 'Month']).agg({\n",
    "        'TotalValue': 'sum',\n",
    "        'TransactionID': 'count'\n",
    "    }).reset_index()\n",
    "    \n",
    "    return time_metrics"
   ]
  },
  {
   "cell_type": "code",
   "execution_count": 16,
   "id": "08d2c015",
   "metadata": {},
   "outputs": [],
   "source": [
    "def generate_visualizations(customer_metrics, product_metrics, regional_metrics, time_metrics):\n",
    "    \"\"\"Generate visualizations for the analyses.\"\"\"\n",
    "    # Customer Distribution Plot\n",
    "    plt.figure(figsize=(10, 6))\n",
    "    sns.histplot(data=customer_metrics, x='TotalSpend', bins=50)\n",
    "    plt.title('Distribution of Customer Total Spend')\n",
    "    plt.savefig('customer_spend_distribution.png')\n",
    "    plt.close()\n",
    "    \n",
    "    # Product Category Performance\n",
    "    plt.figure(figsize=(12, 6))\n",
    "    sns.barplot(data=product_metrics, x='Category', y='TotalValue')\n",
    "    plt.title('Sales by Product Category')\n",
    "    plt.xticks(rotation=45)\n",
    "    plt.savefig('category_performance.png')\n",
    "    plt.close()\n",
    "    \n",
    "    # Regional Performance\n",
    "    plt.figure(figsize=(10, 6))\n",
    "    sns.barplot(data=regional_metrics, x='Region', y='TotalValue')\n",
    "    plt.title('Sales by Region')\n",
    "    plt.savefig('regional_performance.png')\n",
    "    plt.close()\n",
    "    \n",
    "    # Time Series Plot\n",
    "    plt.figure(figsize=(15, 6))\n",
    "    plt.plot(range(len(time_metrics)), time_metrics['TotalValue'])\n",
    "    plt.title('Sales Trend Over Time')\n",
    "    plt.savefig('sales_trend.png')\n",
    "    plt.close()\n"
   ]
  },
  {
   "cell_type": "code",
   "execution_count": 19,
   "id": "6996ccef",
   "metadata": {},
   "outputs": [],
   "source": [
    "def main():\n",
    "    # Load data\n",
    "    customers_df, products_df, transactions_df = load_data()\n",
    "    \n",
    "    # Perform analyses\n",
    "    customer_metrics = perform_customer_analysis(transactions_df)\n",
    "    product_metrics = perform_product_analysis(transactions_df, products_df)\n",
    "    regional_metrics = perform_regional_analysis(customers_df, transactions_df)\n",
    "    time_metrics = perform_time_analysis(transactions_df)\n",
    "    \n",
    "    # Generate visualizations\n",
    "    generate_visualizations(customer_metrics, product_metrics, regional_metrics, time_metrics)\n",
    "    \n",
    "    # Save insights to PDF\n",
    "    insights = [\n",
    "        \"Insight 1: [Based on actual data analysis]\",\n",
    "        \"Insight 2: [Based on actual data analysis]\",\n",
    "        \"Insight 3: [Based on actual data analysis]\",\n",
    "        \"Insight 4: [Based on actual data analysis]\",\n",
    "        \"Insight 5: [Based on actual data analysis]\"\n",
    "    ]\n",
    "    \n",
    "    with open('FirstName_LastName_EDA.pdf', 'w') as f:\n",
    "        f.write(\"\\n\\n\".join(insights))\n",
    "\n",
    "if __name__ == \"__main__\":\n",
    "    main()"
   ]
  },
  {
   "cell_type": "code",
   "execution_count": null,
   "id": "ee8f3674",
   "metadata": {},
   "outputs": [],
   "source": []
  }
 ],
 "metadata": {
  "kernelspec": {
   "display_name": "Python 3 (ipykernel)",
   "language": "python",
   "name": "python3"
  },
  "language_info": {
   "codemirror_mode": {
    "name": "ipython",
    "version": 3
   },
   "file_extension": ".py",
   "mimetype": "text/x-python",
   "name": "python",
   "nbconvert_exporter": "python",
   "pygments_lexer": "ipython3",
   "version": "3.11.4"
  }
 },
 "nbformat": 4,
 "nbformat_minor": 5
}
